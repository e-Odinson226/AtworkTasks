{
 "cells": [
  {
   "cell_type": "markdown",
   "id": "5f515e0c",
   "metadata": {},
   "source": []
  },
  {
   "cell_type": "markdown",
   "id": "351d6383",
   "metadata": {},
   "source": [
    "# PPT (Precision Placement Tables)\n",
    "\n",
    "\n",
    ">## Challanges:\n",
    ">       . Similar cavity shapes with different sizes.\n",
    ">       . Working with Realsense sensors.\n",
    ">       . Fusing Depth and RGB data.\n",
    "\n",
    "---\n",
    "\n",
    ">## Algorithm's sequence order:\n",
    ">        1. Try to config only color filters.\n",
    ">        2. Add post-processing.\n",
    ">        3. Align depth and color images.\n",
    ">        4. Calculate weight on ROIs.\n",
    "\n",
    "---\n",
    "\n",
    "> # What's been done:\n",
    ">  - ## Create a dataset of images of cavities classified into 10 classes.\n",
    ">  - ## Preprocess the dataset by performing operations like resizing, normalization, and data augmentation.\n",
    ">  - ##  Split the dataset into training and testing sets.\n",
    ">  - ##  Use TensorFlow's deep learning models like Convolutional Neural Networks (CNNs) or Transfer Learning models like ResNet, Inception, or VGG to train on the dataset.\n",
    ">  - ##  Evaluate the models' performance by predicting labels for the test set and computing accuracy, precision, recall, F1 scores, and confusion matrix.\n",
    ">  - ##  Fine-tune the model by adjusting hyperparameters like learning rate, batch size, number of epochs, optimizer, and regularization.\n",
    ">  - ## Use OpenCV to load and preprocess new images, and then pass them to the trained model for classification.\n",
    "\n",
    "---\n",
    "---\n",
    "\n",
    "## **Results analysis:**\n",
    "> ### **bounding-box detector** *v.1* : /bbox_classification/boundingBox_detector_ros.py\n",
    "\n",
    "| Model | example | **16-04-2023_17-59-15.h5** | **classification_VGG16.h5** | **EfficientNetV2B0_v1.h5** | **EfficientNetV2B0_v2.h5** | **MobileNetV2_v2.h5** | **Pretrained_EfficientNetB0.h5** | **VGG16_v1.h5** | **VGG16_v2.h5** \n",
    "| :--- | :---: | :---: | :---: | :---: | :---: | :---: | :---: | :---: | :---: |\n",
    "| **F20_20_horizontal**| <img src=\"../dataset/PPT/cavity_images_100perCavity/F20_20_horizontal/F20_20_h_001.jpg\" width=\"100\" height=\"100\"> | NA | NA | NA | NA | NA | NA | NA | NA |\n",
    "| **M20_30_horizontal**| <img src=\"../dataset/PPT/cavity_images_100perCavity/M20_30_horizontal/M20_h_001.jpg \" width=\"100\" height=\"100\"> | NA | NA | NA | NA | NA | NA | NA | NA |\n",
    "| **M20_30_vertical**| <img src=\"../dataset/PPT/cavity_images_100perCavity/M20_30_vertical/M20_M30_v_001.jpg \" width=\"100\" height=\"100\"> | NA | NA | NA | NA | NA | NA | NA | NA |\n",
    "| **M20_100_horizontal**| <img src=\"../dataset/PPT/cavity_images_100perCavity/M20_100_horizontal/M20_100_h_001.jpg \" width=\"100\" height=\"100\"> | NA | NA | NA | NA | NA | NA | NA | NA |\n",
    "| **R20_horizontal**| <img src=\"../dataset/PPT/cavity_images_100perCavity/R20_horizontal/R20_h_001.jpg \" width=\"100\" height=\"100\"> | NA | NA | NA | NA | NA | NA | NA | NA |\n",
    "| **R20_vertical**| <img src=\"../dataset/PPT/cavity_images_100perCavity/R20_vertical/R20_v_001.jpg \" width=\"100\" height=\"100\"> | NA | NA | NA | NA | NA | NA | NA | NA |\n",
    "| **S40_40_horizontal**| <img src=\"../dataset/PPT/cavity_images_100perCavity/S40_40_horizontal/S40_40_h_001.jpg \" width=\"100\" height=\"100\"> | NA | NA | NA | NA | NA | NA | NA | NA |\n",
    "| **S40_40_virtical**| <img src=\"../dataset/PPT/cavity_images_100perCavity/S40_40_virtical/S40_40_v_001.jpg \" width=\"100\" height=\"100\"> | NA | NA | NA | NA | NA | NA | NA | NA |\n",
    "\n",
    " \n",
    " \n",
    " \n",
    " \n",
    " \n",
    " \n",
    " \n",
    " \n",
    "\n",
    "\n"
   ]
  }
 ],
 "metadata": {
  "kernelspec": {
   "display_name": "Python 3 (ipykernel)",
   "language": "python",
   "name": "python3"
  },
  "language_info": {
   "codemirror_mode": {
    "name": "ipython",
    "version": 3
   },
   "file_extension": ".py",
   "mimetype": "text/x-python",
   "name": "python",
   "nbconvert_exporter": "python",
   "pygments_lexer": "ipython3",
   "version": "3.10.6"
  }
 },
 "nbformat": 4,
 "nbformat_minor": 5
}
