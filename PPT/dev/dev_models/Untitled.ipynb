{
 "cells": [
  {
   "cell_type": "code",
   "execution_count": null,
   "id": "3fa07a31",
   "metadata": {},
   "outputs": [],
   "source": [
    "mode = tf.keras.models.Sequential([\n",
    "    tf.keras.layers.InputLayer(input_shape=[224, 224, 3]),\n",
    "    effnetv2_model.get_model('efficientnetv2-b0', include_top=False),\n",
    "    tf.keras.layers.Dropout(rate=0.2),\n",
    "    tf.keras.layers.Dense(4, activation='softmax'),\n",
    "])"
   ]
  }
 ],
 "metadata": {
  "kernelspec": {
   "display_name": "Python 3 (ipykernel)",
   "language": "python",
   "name": "python3"
  },
  "language_info": {
   "codemirror_mode": {
    "name": "ipython",
    "version": 3
   },
   "file_extension": ".py",
   "mimetype": "text/x-python",
   "name": "python",
   "nbconvert_exporter": "python",
   "pygments_lexer": "ipython3",
   "version": "3.8.10"
  }
 },
 "nbformat": 4,
 "nbformat_minor": 5
}
